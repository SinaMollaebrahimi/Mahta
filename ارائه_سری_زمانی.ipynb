{
 "cells": [
  {
   "cell_type": "markdown",
   "id": "a6f8b788",
   "metadata": {},
   "source": [
    "# <div dir ='rtl'>**سری زمانی**</div>\n",
    "\n",
    "### <div dir = 'rtl'>**فصل اول(مفاهیم و کلیات)**</div>\n",
    "\n",
    "<div dir='rtl'>\n",
    "\n",
    "- #### <div dir = 'rtl'>**پیش بینی به کمک  مدل های سری های زمانی**</div>\n",
    "    - #### <div dir = 'rtl'>مفهوم سری زمانی </div>\n",
    "    - #### <div dir = 'rtl'>اهداف مهم در سری های زمانی </div>\n",
    "---\n",
    "- #### <div dir = 'rtl'>**اجزای مهم سری زمانی**</div>\n",
    "    - #### <div dir = 'rtl'>روند</div>\n",
    "    <img src=\"output.png\" alt=\"Alt text\" width=\"900\" height=\"500\" style=\"display: block; margin: auto;\" />\n",
    "\n",
    "    ---\n",
    "\n",
    "    - #### <div dir = 'rtl'>سیکل</div>\n",
    "    <img src=\"output2.png\" alt=\"Alt text\" width=\"900\" height=\"500\" style=\"display: block; margin: auto;\" />\n",
    "\n",
    "    ---\n",
    "\n",
    "    - #### <div dir = 'rtl'>تغییرات فصلی</div>\n",
    "\n",
    "    <img src=\"output3.png\" alt=\"Alt text\" width=\"900\" height=\"500\" style=\"display: block; margin: auto;\" />\n",
    "\n",
    "    ---\n",
    "    - #### <div dir = 'rtl'>نوسانات نامنظم</div>\n",
    "\n",
    "    <img src=\"output4.png\" alt=\"Alt text\" width=\"900\" height=\"500\" style=\"display: block; margin: auto;\" />\n",
    "\n",
    "    \n",
    "---\n",
    "- #### <div dir = 'rtl'>**روشهای پیش بینی**</div>\n",
    "    - #### <div dir = 'rtl'>روش های کیفی</div>\n",
    "    - #### <div dir = 'rtl'>روش های کمی</div>\n",
    "        - #### <div dir = 'rtl'>مدل های یک متغیره</div>\n",
    "        - #### <div dir = 'rtl'>مدل های چند متغیره</div>\n",
    "---\n",
    "- #### <div dir = 'rtl'>**خطاهای پیش بینی**</div>\n",
    "    - #### <div dir = 'rtl'>خطاMSE</div>\n",
    "\n",
    "\n",
    "    <div dir = 'ltr'>\n",
    "\n",
    "    $$\n",
    "    \\begin{aligned}\n",
    "    \\text{MSE} = \\frac{1}{n} \\sum_{i=1}^{n} (y_i - \\hat{y}_i)^2\n",
    "    \\end{aligned}\n",
    "    $$\n",
    "\n",
    "    </div>\n",
    "\n",
    "    <div dir = 'ltr'>\n",
    "\n",
    "    **توضیح نمادها:**  \n",
    "    $( n )$: تعداد نمونه ها  \n",
    "    $( y_i )$: مقدار واقعی  \n",
    "    $( \\hat{y}_i )$: مقدار پیشبینی شده\n",
    "\n",
    "\n",
    "    </div>\n",
    "\n",
    "    \n",
    "    - #### <div dir = 'rtl'>خطاMAD</div>\n",
    "\n",
    "        ####  میانگین انحراف مطلق (MAD) - برای خطاهای پیشبینی:\n",
    "\n",
    "    <div dir = 'ltr'>\n",
    "\n",
    "    $$\n",
    "    \\begin{aligned}\n",
    "    \\text{MAD} = \\frac{1}{n} \\sum_{i=1}^{n} |y_i - \\hat{y}_i|\n",
    "    \\end{aligned}\n",
    "    $$\n",
    "    </div>\n",
    "\n",
    "\n",
    "---\n",
    "- #### <div dir = 'rtl'>**7عامل در انتخاب روش پیش بینی**</div>\n",
    "    - #### <div dir = 'rtl'>فرم مطلوب پیش بینی</div>\n",
    "    - #### <div dir = 'rtl'>چهارچوب زمانی</div>\n",
    "    - #### <div dir = 'rtl'>الگوی داده ها</div>\n",
    "    - #### <div dir = 'rtl'>هزینه انجام پیش بینی</div>\n",
    "    - #### <div dir = 'rtl'>دقت</div>\n",
    "    - #### <div dir = 'rtl'>در دسترس بودن داده ها </div>\n",
    "    - #### <div dir = 'rtl'>سهولت عمل در استفاده از الگوی پیش بینی</div>\n",
    "---\n",
    "- #### <div dir = 'rtl'>**روش شناسی باکس وجنکینز**</div>\n",
    "    - #### <div dir = 'rtl'>مرحله شناسایی آزمایش </div>\n",
    "    - #### <div dir = 'rtl'>برآورد پارامتر های مدل</div>\n",
    "    - #### <div dir = 'rtl'>تشخیص دقت برازش</div>\n",
    "    - #### <div dir = 'rtl'>صحت یا تعدیل مدل</div>\n",
    "    - #### <div dir = 'rtl'>به هنگام کردن مدل</div>\n",
    "---\n",
    "- #### <div dir = 'rtl'>**مدل های غیر فصلی باکس وجنکینز**</div>\n",
    "    - #### <div dir = 'rtl'>سری زمانی پایا </div>\n",
    "    - #### <div dir = 'rtl'>سری زمانی ناپایا </div>\n",
    "\n",
    "</div>\n",
    "\n",
    "---\n",
    "---"
   ]
  },
  {
   "cell_type": "markdown",
   "id": "7d927135",
   "metadata": {},
   "source": [
    "<div dir = 'rtl'>\n",
    "\n",
    "### <div dir='rtl'>**فصل دوم(چند مدل سری زمانی)**</div>\n",
    "\n",
    "- #### <div dir='rtl'>**عملگرها**</div>\n",
    "\n",
    "    - #### <div dir='rtl'>عملگر پیشرو</div>\n",
    "\n",
    "    <div dir = 'ltr'>\n",
    "\n",
    "    $$\n",
    "    F(Z_t) = Z_{t+1} \n",
    "    $$\n",
    "\n",
    "    </div>\n",
    "\n",
    "    - #### <div dir='rtl'>عملگر  پسرو</div>\n",
    "        \n",
    "    <div dir = 'ltr'>\n",
    "    \n",
    "    $$\n",
    "    B(Z_t) = Z_{t-1} \n",
    "    $$\n",
    "\n",
    "    </div>\n",
    "    \n",
    "    - #### <div dir='rtl'>عملگر تفاضل پسرو</div>\n",
    "\n",
    "\n",
    "    <div dir = 'ltr'>\n",
    "\n",
    "    $$\n",
    "    \\nabla f(x) = f(x) - f(x - h)\n",
    "    $$\n",
    "    </div>\n",
    "\n",
    "    - #### <div dir='rtl'>عملگر جمع</div>\n",
    "    \n",
    "    <div dir = 'ltr'>\n",
    "\n",
    "    $$\n",
    "    S(Z_t) = Z_t + Z_{t-1} + \\dots + Z_{t-n}\n",
    "    $$\n",
    "\n",
    "    </div>\n",
    "    \n",
    "- #### <div dir='rtl'>**چند مدل سری زمانی کلاسیک**</div>\n",
    "    \n",
    "    - #### <div dir='rtl'>مدل صافی خطی</div>\n",
    "    \n",
    "    <div dir = 'ltr'>\n",
    "\n",
    "\n",
    "    $$\n",
    "    Z_t = \\mu + a_t + \\Psi_1 a_{t-1} + \\Psi_2 a_{t-2} + \\cdots = \\mu + \\Psi(B) a_t \n",
    "    $$\n",
    "    </div>\n",
    "\n",
    "</div>"
   ]
  },
  {
   "cell_type": "code",
   "execution_count": 26,
   "id": "fb543789",
   "metadata": {
    "vscode": {
     "languageId": "r"
    }
   },
   "outputs": [
    {
     "name": "stderr",
     "output_type": "stream",
     "text": [
      "\u001b[1m\u001b[22mDon't know how to automatically pick scale for object of type \u001b[34m<ts>\u001b[39m. Defaulting\n",
      "to continuous.\n",
      "Warning message:\n",
      "\"\u001b[1m\u001b[22mRemoved 11 rows containing missing values or values outside the scale range\n",
      "(`geom_line()`).\"\n"
     ]
    },
    {
     "data": {
      "image/png": "[encoded data removed]",
      "text/plain": [
       "plot without title"
      ]
     },
     "metadata": {
      "image/png": {
       "height": 420,
       "width": 420
      }
     },
     "output_type": "display_data"
    },
    {
     "data": {
      "image/png": "[encoded data removed]",
      "text/plain": [
       "plot without title"
      ]
     },
     "metadata": {
      "image/png": {
       "height": 420,
       "width": 420
      }
     },
     "output_type": "display_data"
    }
   ],
   "source": [
    "library(ggplot2)\n",
    "library(stats)\n",
    "\n",
    "data(\"AirPassengers\")\n",
    "df <- data.frame(\n",
    "  Date = time(AirPassengers),\n",
    "  Passengers = as.numeric(AirPassengers)\n",
    ")\n",
    "window_size <- 12\n",
    "df$Smoothed <- stats::filter(df$Passengers, filter = rep(1/window_size, window_size), sides = 2)\n",
    "ggplot(df, aes(x = Date)) +\n",
    "  geom_line(aes(y = Passengers, color = \"Original\"), size = 0.7) +\n",
    "  geom_line(aes(y = Smoothed, color = \"Smoothed\"), size = 1.2) +\n",
    "  labs(\n",
    "    title = \"Linear Filter (Moving Average) on AirPassengers Data\",\n",
    "    x = \"Year\",\n",
    "    y = \"Passengers\",\n",
    "    color = \"Legend\"\n",
    "  ) +\n",
    "  scale_color_manual(values = c(\"Original\" = \"gray\", \"Smoothed\" = \"red\")) +\n",
    "  theme_minimal()\n",
    "ts_data <- ts(df$Passengers, frequency = 12)\n",
    "decomposed <- decompose(ts_data, type = \"additive\")\n",
    "plot(decomposed)"
   ]
  },
  {
   "cell_type": "markdown",
   "id": "14e65ab5",
   "metadata": {},
   "source": [
    "<div dir='rtl'>\n",
    "\n",
    "- #### <div dir='rtl'>مدل AR</div>\n",
    "\n",
    "<div dir = 'rtl'>\n",
    "\n",
    "برای **مدل اتورگرسیو (AR(p))**، فرمول کلی به صورت زیر است:\n",
    "\n",
    "</div>\n",
    "\n",
    "<div dir = 'ltr'>\n",
    "\n",
    "$$\n",
    "X_t = c + \\phi_1 X_{t-1} + \\phi_2 X_{t-2} + \\cdots + \\phi_p X_{t-p} + \\varepsilon_t\n",
    "$$\n",
    "\n",
    "</div>\n",
    "\n",
    "</div>\n",
    "\n",
    "**معنی پارامترها:**  \n",
    "- $(X_t)$: مقدار متغیر در زمان $(t)$.  \n",
    "- $(c)$: جمله ثابت (Constant Term).  \n",
    "- $(\\phi_1, \\phi_2, \\dots, \\phi_p)$: ضرایب اتورگرسیو برای تأخیرهای \\(1\\) تا $(p)$.  \n",
    "- $(\\varepsilon_t)$: جمله خطا (نویز سفید با میانگین صفر و واریانس ثابت).  \n",
    "\n",
    "---\n"
   ]
  },
  {
   "cell_type": "code",
   "execution_count": 27,
   "id": "ce6f075e",
   "metadata": {
    "vscode": {
     "languageId": "r"
    }
   },
   "outputs": [
    {
     "data": {
      "text/plain": [
       "\n",
       "Call:\n",
       "arima(x = ts_data, order = c(2, 0, 0), include.mean = TRUE)\n",
       "\n",
       "Coefficients:\n",
       "         ar1      ar2  intercept\n",
       "      1.2831  -0.3322   280.4696\n",
       "s.e.  0.0786   0.0792    49.4423\n",
       "\n",
       "sigma^2 estimated as 995.9:  log likelihood = -702.82,  aic = 1413.64\n",
       "\n",
       "Training set error measures:\n",
       "                   ME     RMSE      MAE       MPE    MAPE    MASE       ACF1\n",
       "Training set 1.238516 31.55774 24.45024 -0.895594 8.90167 0.94548 0.05633522"
      ]
     },
     "metadata": {},
     "output_type": "display_data"
    },
    {
     "data": {
      "image/png": "[encoded data removed]",
      "text/plain": [
       "Plot with title \"دادههای ایستاشده پس از تفاوت گیری\""
      ]
     },
     "metadata": {
      "image/png": {
       "height": 420,
       "width": 420
      }
     },
     "output_type": "display_data"
    }
   ],
   "source": [
    "library(forecast)\n",
    "data(\"AirPassengers\")\n",
    "ts_data <- AirPassengers\n",
    "ts_diff <- diff(ts_data, differences = 1)\n",
    "plot(ts_diff, main = \"دادههای ایستاشده پس از تفاوت گیری\")\n",
    "ar_model <- arima(ts_data, order = c(2, 0, 0), include.mean = TRUE)\n",
    "summary(ar_model)"
   ]
  },
  {
   "cell_type": "markdown",
   "id": "52f7c47c",
   "metadata": {},
   "source": [
    "<div dir = 'rtl'>\n",
    "\n",
    "- #### <div dir='rtl'>مدل MA</div>\n",
    "<div dir='rtl'>\n",
    "\n",
    "**مدل میانگین متحرک (Moving Average Model - MA)**  \n",
    "مدل MA یکی از مدلهای پایهای در تحلیل سریهای زمانی است که برای توصیف وابستگیهای کوتاهمدت در دادهها استفاده میشود. برخلاف مدل اتورگرسیو (AR) که از مقادیر گذشته سری زمانی استفاده میکند، مدل MA بر پایه **خطاهای گذشته** (White Noise) بنا شده است.  \n",
    "</div>\n",
    "\n",
    "---\n",
    "\n",
    "### **۱. فرمول عمومی مدل MA(q)**  \n",
    "مدل MA با مرتبه \\( q \\) (MA(q)) بهصورت زیر تعریف میشود:  \n",
    "<div dir = 'ltr'>\n",
    "\n",
    "\n",
    "$$\n",
    "X_t = \\mu + \\varepsilon_t + \\theta_1 \\varepsilon_{t-1} + \\theta_2 \\varepsilon_{t-2} + \\cdots + \\theta_q \\varepsilon_{t-q}\n",
    "$$\n",
    "</div>\n",
    "\n",
    "</div>\n",
    "\n",
    "- $( X_t )$: مقدار سری زمانی در زمان $( t )$.  \n",
    "- $( \\mu )$: میانگین بلندمدت سری زمانی.  \n",
    "- $( \\varepsilon_t )$: جمله خطای سفید (نویز) در زمان $( t )$ با میانگین صفر و واریانس ثابت $(( \\sigma^2 ))$.  \n",
    "- $( \\theta_1, \\theta_2, \\dots, \\theta_q )$: ضرایب مدل MA که تأثیر خطاهای گذشته را نشان میدهند.  \n",
    "\n",
    "---\n",
    "\n",
    "<div dir ='rtl'>\n",
    "\n",
    "### **۲. ویژگیهای کلیدی مدل MA**  \n",
    "- **حافظه کوتاه مدت:** تأثیر خطاهای گذشته تنها برای \\( q \\) دوره باقی میماند.  \n",
    "- **ایستایی (Stationarity):** مدل MA همواره ایستا است (برخلاف مدل AR که نیاز به بررسی ایستایی دارد).  \n",
    "- **کاربرد:** مناسب برای دادههایی که نوسانات آنها ناشی از شوکهای گذرا (مانند تغییرات ناگهانی بازار) است.  \n",
    "</div>\n",
    "\n",
    "---\n",
    "\n",
    "\n",
    "\n",
    "\n",
    "\n",
    "\n",
    "\n",
    "\n"
   ]
  },
  {
   "cell_type": "code",
   "execution_count": 28,
   "id": "fd4420e2",
   "metadata": {
    "vscode": {
     "languageId": "r"
    }
   },
   "outputs": [
    {
     "data": {
      "text/plain": [
       "\n",
       "Call:\n",
       "arima(x = ts_data, order = c(0, 0, 1), include.mean = TRUE)\n",
       "\n",
       "Coefficients:\n",
       "         ma1  intercept\n",
       "      0.9642   280.6464\n",
       "s.e.  0.0214    10.5788\n",
       "\n",
       "sigma^2 estimated as 4205:  log likelihood = -806.43,  aic = 1618.86\n",
       "\n",
       "Training set error measures:\n",
       "                    ME     RMSE      MAE       MPE     MAPE     MASE      ACF1\n",
       "Training set 0.4138396 64.84889 52.86729 -10.70417 23.16898 2.044354 0.7748281"
      ]
     },
     "metadata": {},
     "output_type": "display_data"
    }
   ],
   "source": [
    "data(\"AirPassengers\")\n",
    "ts_data <- (AirPassengers)\n",
    "ma_model <- arima(ts_data, order = c(0, 0, 1), include.mean = TRUE)\n",
    "summary(ma_model)"
   ]
  },
  {
   "cell_type": "markdown",
   "id": "1f282adf",
   "metadata": {},
   "source": [
    "<div dir = 'rtl'>\n",
    "\n",
    "- #### <div dir='rtl'>مدل ARMA</div>\n",
    "\n",
    "<div dir='rtl'>\n",
    "\n",
    "**مدل ARMA (اتورگرسیو میانگین متحرک)**  \n",
    "مدل ARMA ترکیبی از دو مدل **اتورگرسیو (AR)** و **میانگین متحرک (MA)** است و برای توصیف سریهای زمانی ایستا استفاده میشود. این مدل هم از مقادیر گذشته سری زمانی و هم از خطاهای گذشته برای پیشبینی مقدار فعلی بهره میبرد.  \n",
    "</div>\n",
    "\n",
    "---\n",
    "\n",
    "### **فرمول کلی مدل ARMA(p, q)**  \n",
    "<div dir='ltr'>\n",
    "\n",
    "$$\n",
    "X_t = c + \\sum_{i=1}^p \\phi_i X_{t-i} + \\sum_{j=1}^q \\theta_j \\varepsilon_{t-j} + \\varepsilon_t\n",
    "$$\n",
    "</div>  \n",
    "\n",
    "</div>\n",
    "\n",
    "- $(X_t)$: مقدار سری زمانی در زمان $(t)$.  \n",
    "- $(c)$: جمله ثابت (Constant Term).  \n",
    "- $(\\phi_1, \\phi_2, \\dots, \\phi_p)$: ضرایب اتورگرسیو (AR) برای تأخیرهای (1\\) تا $(p)$.  \n",
    "- $(\\theta_1, \\theta_2, \\dots, \\theta_q)$: ضرایب میانگین متحرک (MA) برای تأخیرهای$(1)$ تا $(q)$.  \n",
    "- $(\\varepsilon_t)$: جمله خطا (نویز سفید) در زمان $(t)$ با میانگین صفر و واریانس $(\\sigma^2)$.  \n",
    "\n",
    "---\n",
    "<div dir='ltr'>\n",
    "\n",
    "### **ویژگیهای کلیدی مدل ARMA**  \n",
    "۱. **ایستایی (Stationarity):**  \n",
    "   - دادهها باید ایستا باشند (با تفاوتگیری یا تبدیل مناسب).  \n",
    "   - اگر دادهها غیرایستا باشند، از مدل **ARIMA** استفاده میشود.  \n",
    "\n",
    "۲. **ترکیب دو مؤلفه:**  \n",
    "   - **AR(p):** وابستگی به مقادیر گذشته ($(X_{t-1}, X_{t-2}, \\dots, X_{t-p})$).  \n",
    "   - **MA(q):** وابستگی به خطاهای گذشته ($(\\varepsilon_{t-1}, \\varepsilon_{t-2}, \\dots, \\varepsilon_{t-q})$).  \n",
    "\n",
    "۳. **کاربردها:**  \n",
    "   - پیشبینی دادههای اقتصادی (مانند GDP، تورم).  \n",
    "   - تحلیل دادههای آبوهوایی یا فروش فصلی.  \n",
    "\n",
    "---\n",
    "</div>\n",
    "\n",
    "<div dir = 'ltr'>\n",
    "\n",
    "### **تفاوت ARMA با AR و MA**  \n",
    "- **AR(p):** تنها از مقادیر گذشته سری زمانی استفاده میکند ($(X_{t-k})$).  \n",
    "- **MA(q):** تنها از خطاهای گذشته استفاده میکند ($(\\varepsilon_{t-k})$).  \n",
    "- **ARMA(p,q):** ترکیبی از هر دو مؤلفه است و برای دادههایی مناسب است که هم روند و هم نوسانات کوتاهمدت دارند.  \n",
    "\n",
    "</div>\n",
    "\n",
    "---\n",
    "\n",
    "\n",
    "\n",
    "\n",
    "\n",
    "\n",
    "\n",
    "\n",
    "\n"
   ]
  },
  {
   "cell_type": "code",
   "execution_count": 29,
   "id": "ceec4442",
   "metadata": {
    "vscode": {
     "languageId": "r"
    }
   },
   "outputs": [
    {
     "data": {
      "text/plain": [
       "\n",
       "Call:\n",
       "arima(x = ts_data, order = c(1, 0, 1), include.mean = TRUE)\n",
       "\n",
       "Coefficients:\n",
       "         ar1     ma1  intercept\n",
       "      0.9373  0.4264   281.5426\n",
       "s.e.  0.0302  0.0911    53.6135\n",
       "\n",
       "sigma^2 estimated as 968.5:  log likelihood = -700.87,  aic = 1409.75\n",
       "\n",
       "Training set error measures:\n",
       "                   ME     RMSE      MAE        MPE     MAPE      MASE\n",
       "Training set 1.339968 31.12125 24.46295 -0.7897265 8.913893 0.9459713\n",
       "                    ACF1\n",
       "Training set -0.01710536"
      ]
     },
     "metadata": {},
     "output_type": "display_data"
    }
   ],
   "source": [
    "data(\"AirPassengers\")\n",
    "ts_data <- (AirPassengers)\n",
    "arma_model <- arima(ts_data, order = c(1, 0, 1), include.mean = TRUE)\n",
    "summary(arma_model)"
   ]
  },
  {
   "cell_type": "markdown",
   "id": "5835e05c",
   "metadata": {},
   "source": [
    "<div dir = 'rtl'>\n",
    "\n",
    "- #### <div dir='rtl'>مدل ARIMA</div>\n",
    "**مدل ARIMA (اتورگرسیو یکپارچه میانگین متحرک)**  \n",
    "مدل ARIMA یک ابزار قدرتمند برای تحلیل سریهای زمانی غیرایستا است که با ترکیب **تفاوتگیری (Integration)**، **اتورگرسیو (AR)** و **میانگین متحرک (MA)** ساخته میشود. این مدل برای دادههایی استفاده میشود که روند (Trend) یا فصلیت (Seasonality) دارند و نیاز به ایستاسازی دارند.  \n",
    "\n",
    "---\n",
    "\n",
    "### **فرمول کلی مدل ARIMA(p, d, q)**  \n",
    "مدل ARIMA(p, d, q) پس از اعمال **تفاوتگیری d بار** بر دادههای غیرایستا، به شکل یک مدل ARMA(p, q) عمل میکند:  \n",
    "<div dir='ltr'>\n",
    "\n",
    "$$\n",
    "(1 - \\phi_1 B - \\cdots - \\phi_p B^p) (1 - B)^d X_t = c + (1 + \\theta_1 B + \\cdots + \\theta_q B^q) \\varepsilon_t\n",
    "$$\n",
    "\n",
    "- $(X_t)$: مقدار سری زمانی در زمان (t).  \n",
    "\n",
    "- $(B)$: عملگر تاخیر (Backshift Operator) که $(B^k X_t = X_{t-k})$.  \n",
    "\n",
    "- $(\\phi_1, \\dots, \\phi_p)$: ضرایب اتورگرسیو (AR).  \n",
    "\n",
    "- $(\\theta_1, \\dots, \\theta_q)$: ضرایب میانگین متحرک (MA).  \n",
    "\n",
    "- $(d)$: تعداد تفاوتگیریها برای ایستاسازی.  \n",
    "\n",
    "- $(\\varepsilon_t)$: جمله خطا (نویز سفید).  \n",
    "\n",
    "\n",
    "---\n",
    "\n",
    "\n",
    "### **اجزای مدل ARIMA**  \n",
    "۱. **اتورگرسیو (AR(p)):**  \n",
    "   <div dir = 'ltr'>\n",
    "   \n",
    "   $$\n",
    "   \\phi_1 X_{t-1} + \\phi_2 X_{t-2} + \\cdots + \\phi_p X_{t-p}\n",
    "   $$\n",
    "\n",
    "   </div>\n",
    "   - وابستگی به مقادیر گذشته سری زمانی.  \n",
    "\n",
    "۲. **تفاوتگیری (I(d)):**  \n",
    "   - برای حذف روند یا فصلیت با تفاوتگیری متوالی (مثلاً $(d = 1)$: $(X'_t = X_t - X_{t-1})$).  \n",
    "\n",
    "۳. **میانگین متحرک (MA(q)):**  \n",
    "   $\\theta_1 \\varepsilon_{t-1} + \\theta_2 \\varepsilon_{t-2} + \\cdots + \\theta_q \\varepsilon_{t-q}$  \n",
    "   - وابستگی به خطاهای گذشته.  \n",
    "\n",
    "---\n",
    "\n",
    "</div>\n"
   ]
  },
  {
   "cell_type": "code",
   "execution_count": 30,
   "id": "456afa85",
   "metadata": {
    "vscode": {
     "languageId": "r"
    }
   },
   "outputs": [
    {
     "data": {
      "text/plain": [
       "\n",
       "Call:\n",
       "arima(x = ts_data, order = c(2, 1, 1))\n",
       "\n",
       "Coefficients:\n",
       "         ar1      ar2      ma1\n",
       "      1.0906  -0.4890  -0.8438\n",
       "s.e.  0.0776   0.0744   0.0427\n",
       "\n",
       "sigma^2 estimated as 844.6:  log likelihood = -685.17,  aic = 1378.34\n",
       "\n",
       "Training set error measures:\n",
       "                   ME     RMSE      MAE      MPE     MAPE      MASE        ACF1\n",
       "Training set 6.376375 28.96106 22.69575 1.817697 7.924341 0.8776344 -0.08006484"
      ]
     },
     "metadata": {},
     "output_type": "display_data"
    },
    {
     "data": {
      "image/png": "[encoded data removed]",
      "text/plain": [
       "Plot with title \"دادهها پس از یک بار تفاوتگیری\""
      ]
     },
     "metadata": {
      "image/png": {
       "height": 420,
       "width": 420
      }
     },
     "output_type": "display_data"
    },
    {
     "data": {
      "image/png": "[encoded data removed]",
      "text/plain": [
       "Plot with title \"پیشبینی با مدل ARIMA(2,1,1)\""
      ]
     },
     "metadata": {
      "image/png": {
       "height": 420,
       "width": 420
      }
     },
     "output_type": "display_data"
    }
   ],
   "source": [
    "# تفاوتگیری اول\n",
    "ts_diff <- diff(ts_data, differences = 1)\n",
    "plot(ts_diff, main = \"دادهها پس از یک بار تفاوتگیری\")\n",
    "# برازش مدل\n",
    "arima_model <- arima(ts_data, order = c(2, 1, 1))\n",
    "summary(arima_model)\n",
    "# پیشبینی ۲۴ ماه آینده\n",
    "forecast_result <- forecast(arima_model, h = 24)\n",
    "plot(forecast_result, main = \"پیشبینی با مدل ARIMA(2,1,1)\")"
   ]
  },
  {
   "cell_type": "markdown",
   "id": "747eab6b",
   "metadata": {},
   "source": [
    "<div dir = 'rtl'>\n",
    "\n",
    "- #### <div dir = 'rtl'>آزمون ریشه واحد</div>\n",
    "\n",
    "</div>\n",
    "\n",
    "<div dir = 'rtl'>\n",
    "\n",
    "**آزمون ریشه واحد (Unit Root Test)**  \n",
    "آزمون ریشه واحد برای تشخیص **ایستایی (Stationarity)** در سری های زمانی استفاده میشود. اگر سری زمانی ریشه واحد داشته باشد، غیرایستا است و نیاز به تفاوت گیری (Differencing) دارد. در زیر به معرفی آزمونهای رایج، نحوه اجرا در R و تفسیر نتایج پرداخته می شود:\n",
    "\n",
    "---\n",
    "\n",
    "#### **انواع آزمونهای ریشه واحد**  \n",
    "۱. **آزمون دیکی-فولر (ADF - Augmented Dickey-Fuller):**  \n",
    "   - **فرضیه صفر (\\(H_0\\)):** سری زمانی ریشه واحد دارد (غیرایستا است).  \n",
    "   - **فرضیه مقابل (\\(H_1\\)):** سری زمانی ایستا است.  \n",
    "\n",
    "۲. **آزمون فیلیپس-پرون (PP - Phillips-Perron):**  \n",
    "   - مشابه ADF، اما نیازی به تعیین تعداد وقفه (Lags) ندارد.  \n",
    "\n",
    "۳. **آزمون KPSS:**  \n",
    "   - **فرضیه صفر (\\(H_0\\)):** سری زمانی ایستا است.  \n",
    "   - **فرضیه مقابل (\\(H_1\\)):** سری زمانی غیرایستا است.  \n",
    "\n",
    "---\n",
    "\n",
    "\n",
    "\n",
    "####  **آزمون ADF**  \n",
    "\n",
    "\n",
    "**تفسیر:**  \n",
    "- **p-value > 0.05:** فرضیه صفر رد نمیشود → سری **غیرایستا** است.  \n",
    "- **p-value ≤ 0.05:** فرضیه صفر رد میشود → سری **ایستا** است.  \n",
    "<div dir = 'rtl'>\n",
    "\n",
    "پارامتر k در آزمون دیکی-فولر (Augmented Dickey-Fuller Test) به تعداد وقفهها (Lags) اشاره دارد که در مدل آزمون برای کنترل همبستگی سریالی (Serial Correlation) در خطاها استفاده میشود. این پارامتر تعیین میکند که چند تفاضل از مقادیر گذشته متغیر وابسته به مدل اضافه شود تا اثرات همبستگی سریالی خنثی گردد.\n",
    "\n",
    "</div>\n",
    "\n",
    "---\n",
    "\n",
    "####  **آزمون PP**  \n",
    "\n",
    "\n",
    "**تفسیر:** مشابه ADF.  \n",
    "\n",
    "---\n",
    "\n",
    "####  **آزمون KPSS**  \n",
    "\n",
    "**تفسیر:**  \n",
    "- **p-value > 0.05:** فرضیه صفر رد نمیشود → سری **ایستا** است.  \n",
    "- **p-value ≤ 0.05:** فرضیه صفر رد میشود → سری **غیرایستا** است.  \n",
    "\n",
    "---\n",
    "\n",
    "### **مراحل پس از تشخیص غیرایستایی**  \n",
    "اگر سری زمانی غیرایستا است، باید **تفاوتگیری (Differencing)** انجام دهید:  \n",
    "\n",
    "---\n",
    "\n",
    "### **نمونه خروجی های تفسیری**  \n",
    "- **دادههای اصلی (غیرایستا):**  \n",
    "  - ADF: p-value = 0.43 → غیرایستا.  \n",
    "  - KPSS: p-value = 0.01 → غیرایستا.  \n",
    "\n",
    "- **پس از تفاوت گیری (ایستا):**  \n",
    "  - ADF: p-value = 0.01 → ایستا.  \n",
    "  - KPSS: p-value = 0.1 → ایستا.  \n",
    "\n",
    "---\n",
    "\n",
    "### **محدودیت های آزمونهای ریشه واحد**  \n",
    "۱. **حساسیت به تعداد وقفه ها (Lags):** در ADF، انتخاب نادرست تعداد وقفهها ممکن است نتایج را تحریف کند.  \n",
    "۲. **تغییر ساختار (Structural Breaks):** وجود تغییر ناگهانی در دادهها (مثلاً بحران اقتصادی) میتواند نتایج را مختل کند.  \n",
    "۳. **قدرت آزمون (Power):** در نمونههای کوچک، احتمال خطای نوع دوم (عدم تشخیص غیرایستایی) افزایش مییابد.  \n",
    "\n",
    "---\n",
    "\n",
    "### **جمع بندی**  \n",
    "- از آزمون ADF/PP برای رد فرضیه **غیرایستایی** استفاده کنید.  \n",
    "- از آزمون KPSS برای تأیید **ایستایی** استفاده کنید.  \n",
    "- در صورت غیرایستا بودن، تفاوتگیری انجام دهید و آزمون را تکرار کنید.  \n",
    "\n",
    "</div>"
   ]
  },
  {
   "cell_type": "code",
   "execution_count": 36,
   "id": "77fd5fee",
   "metadata": {
    "vscode": {
     "languageId": "r"
    }
   },
   "outputs": [
    {
     "data": {
      "text/plain": [
       "\n",
       "############################################### \n",
       "# Augmented Dickey-Fuller Test Unit Root Test # \n",
       "############################################### \n",
       "\n",
       "Test regression drift \n",
       "\n",
       "\n",
       "Call:\n",
       "lm(formula = z.diff ~ z.lag.1 + 1)\n",
       "\n",
       "Residuals:\n",
       "    Min      1Q  Median      3Q     Max \n",
       "-93.966 -21.362  -1.888  18.537  95.266 \n",
       "\n",
       "Coefficients:\n",
       "            Estimate Std. Error t value Pr(>|t|)  \n",
       "(Intercept) 13.70550    7.13367   1.921   0.0567 .\n",
       "z.lag.1     -0.04107    0.02349  -1.748   0.0826 .\n",
       "---\n",
       "Signif. codes:  0 '***' 0.001 '**' 0.01 '*' 0.05 '.' 0.1 ' ' 1\n",
       "\n",
       "Residual standard error: 33.51 on 141 degrees of freedom\n",
       "Multiple R-squared:  0.02121,\tAdjusted R-squared:  0.01427 \n",
       "F-statistic: 3.056 on 1 and 141 DF,  p-value: 0.08262\n",
       "\n",
       "\n",
       "Value of test-statistic is: -1.7481 1.8467 \n",
       "\n",
       "Critical values for test statistics: \n",
       "      1pct  5pct 10pct\n",
       "tau2 -3.46 -2.88 -2.57\n",
       "phi1  6.52  4.63  3.81\n"
      ]
     },
     "metadata": {},
     "output_type": "display_data"
    },
    {
     "data": {
      "text/plain": [
       "\n",
       "################################## \n",
       "# Phillips-Perron Unit Root Test # \n",
       "################################## \n",
       "\n",
       "Test regression with intercept and trend \n",
       "\n",
       "\n",
       "Call:\n",
       "lm(formula = y ~ y.l1 + trend)\n",
       "\n",
       "Residuals:\n",
       "   Min     1Q Median     3Q    Max \n",
       "-33006  -7024   1837   8245  25707 \n",
       "\n",
       "Coefficients:\n",
       "              Estimate Std. Error t value Pr(>|t|)    \n",
       "(Intercept)  1.187e+04  3.672e+03   3.233  0.00142 ** \n",
       "y.l1         9.029e-01  2.934e-02  30.772  < 2e-16 ***\n",
       "trend       -1.225e+01  1.282e+01  -0.956  0.34028    \n",
       "---\n",
       "Signif. codes:  0 '***' 0.001 '**' 0.01 '*' 0.05 '.' 0.1 ' ' 1\n",
       "\n",
       "Residual standard error: 11660 on 212 degrees of freedom\n",
       "Multiple R-squared:  0.8177,\tAdjusted R-squared:  0.8159 \n",
       "F-statistic: 475.3 on 2 and 212 DF,  p-value: < 2.2e-16\n",
       "\n",
       "\n",
       "Value of test-statistic, type: Z-alpha  is: -40.8913 \n",
       "\n",
       "           aux. Z statistics\n",
       "Z-tau-mu              0.0834\n",
       "Z-tau-beta           -0.7191\n"
      ]
     },
     "metadata": {},
     "output_type": "display_data"
    },
    {
     "data": {
      "text/plain": [
       "\n",
       "####################### \n",
       "# KPSS Unit Root Test # \n",
       "####################### \n",
       "\n",
       "Test is of type: mu with 4 lags. \n",
       "\n",
       "Value of test-statistic is: 0.0661 \n",
       "\n",
       "Critical value for a significance level of: \n",
       "                10pct  5pct 2.5pct  1pct\n",
       "critical values 0.347 0.463  0.574 0.739\n"
      ]
     },
     "metadata": {},
     "output_type": "display_data"
    }
   ],
   "source": [
    "library(urca)\n",
    "test <- ur.df(AirPassengers, type = \"drift\", lags = 0)\n",
    "summary(test)\n",
    "pp_urca <- ur.pp(ads_ts, type = \"Z-alpha\", model = \"trend\", lags = \"short\")\n",
    "summary(pp_urca)\n",
    "kpss_urca <- ur.kpss(ads_ts, type = \"mu\", lags = \"short\")\n",
    "summary(kpss_urca)\n"
   ]
  },
  {
   "cell_type": "markdown",
   "id": "ced64e11",
   "metadata": {},
   "source": [
    "<div dir = 'rtl'>\n",
    "\n",
    "**جمع‌بندی و توصیه**\n",
    "\n",
    "ADF: تا حدی تردید دارد و ایستایی را رد نمی‌کند (non-stationary).\n",
    "\n",
    "PP و KPSS: هر دو قویاً نشان می‌دهند که سری ایستا است.\n",
    "\n",
    "وقتی PP و KPSS با هم توافق دارند و ADF تنها اندکی تردید دارد، معمولاً به‌خاطر قدرت بیشتر PP و قابلیت سنجش روند (trend) در آن، به خروجی PP/KPSS اعتماد می‌کنیم.\n",
    "\n",
    "نتیجه نهایی:\n",
    "سری شما به احتمال زیاد ایستا است (no differencing needed).\n",
    "در نتیجه برای مدل ARIMA،\n",
    "می‌توانید \n",
    "𝑑=0\n",
    "d=0 قرار دهید،\n",
    "و تنها روی تعیین \n",
    "(𝑝,𝑞)\n",
    "(p,q) از روی ACF/PACF تمرکز کنید.\n",
    "\n",
    "</div>"
   ]
  },
  {
   "cell_type": "markdown",
   "id": "2537ebbe",
   "metadata": {},
   "source": [
    "<div dir = 'rtl'>\n",
    "\n",
    "- #### <div dir = 'rtl'>**روش های شناسایی ایستایی مدل** </div> \n",
    "\n",
    "    - ### ACF\n",
    "\n",
    "    - ### PACF\n",
    "\n",
    "</div>"
   ]
  },
  {
   "cell_type": "code",
   "execution_count": 37,
   "id": "38196c4a",
   "metadata": {
    "vscode": {
     "languageId": "r"
    }
   },
   "outputs": [
    {
     "data": {
      "text/html": [
       "<table class=\"dataframe\">\n",
       "<caption>A data.frame: 6 × 2</caption>\n",
       "<thead>\n",
       "\t<tr><th></th><th scope=col>Time</th><th scope=col>Ads</th></tr>\n",
       "\t<tr><th></th><th scope=col>&lt;date&gt;</th><th scope=col>&lt;int&gt;</th></tr>\n",
       "</thead>\n",
       "<tbody>\n",
       "\t<tr><th scope=row>1</th><td>2017-09-13</td><td> 80115</td></tr>\n",
       "\t<tr><th scope=row>2</th><td>2017-09-13</td><td> 79885</td></tr>\n",
       "\t<tr><th scope=row>3</th><td>2017-09-13</td><td> 89325</td></tr>\n",
       "\t<tr><th scope=row>4</th><td>2017-09-13</td><td>101930</td></tr>\n",
       "\t<tr><th scope=row>5</th><td>2017-09-13</td><td>121630</td></tr>\n",
       "\t<tr><th scope=row>6</th><td>2017-09-13</td><td>116475</td></tr>\n",
       "</tbody>\n",
       "</table>\n"
      ],
      "text/latex": [
       "A data.frame: 6 × 2\n",
       "\\begin{tabular}{r|ll}\n",
       "  & Time & Ads\\\\\n",
       "  & <date> & <int>\\\\\n",
       "\\hline\n",
       "\t1 & 2017-09-13 &  80115\\\\\n",
       "\t2 & 2017-09-13 &  79885\\\\\n",
       "\t3 & 2017-09-13 &  89325\\\\\n",
       "\t4 & 2017-09-13 & 101930\\\\\n",
       "\t5 & 2017-09-13 & 121630\\\\\n",
       "\t6 & 2017-09-13 & 116475\\\\\n",
       "\\end{tabular}\n"
      ],
      "text/markdown": [
       "\n",
       "A data.frame: 6 × 2\n",
       "\n",
       "| <!--/--> | Time &lt;date&gt; | Ads &lt;int&gt; |\n",
       "|---|---|---|\n",
       "| 1 | 2017-09-13 |  80115 |\n",
       "| 2 | 2017-09-13 |  79885 |\n",
       "| 3 | 2017-09-13 |  89325 |\n",
       "| 4 | 2017-09-13 | 101930 |\n",
       "| 5 | 2017-09-13 | 121630 |\n",
       "| 6 | 2017-09-13 | 116475 |\n",
       "\n"
      ],
      "text/plain": [
       "  Time       Ads   \n",
       "1 2017-09-13  80115\n",
       "2 2017-09-13  79885\n",
       "3 2017-09-13  89325\n",
       "4 2017-09-13 101930\n",
       "5 2017-09-13 121630\n",
       "6 2017-09-13 116475"
      ]
     },
     "metadata": {},
     "output_type": "display_data"
    },
    {
     "data": {
      "text/html": [
       "<table class=\"dataframe\">\n",
       "<caption>A data.frame: 6 × 2</caption>\n",
       "<thead>\n",
       "\t<tr><th></th><th scope=col>Time</th><th scope=col>GEMS_GEMS_SPENT</th></tr>\n",
       "\t<tr><th></th><th scope=col>&lt;chr&gt;</th><th scope=col>&lt;int&gt;</th></tr>\n",
       "</thead>\n",
       "<tbody>\n",
       "\t<tr><th scope=row>1</th><td>5/1/17</td><td>1199436</td></tr>\n",
       "\t<tr><th scope=row>2</th><td>5/2/17</td><td>1045515</td></tr>\n",
       "\t<tr><th scope=row>3</th><td>5/3/17</td><td> 586111</td></tr>\n",
       "\t<tr><th scope=row>4</th><td>5/4/17</td><td> 856601</td></tr>\n",
       "\t<tr><th scope=row>5</th><td>5/5/17</td><td> 793775</td></tr>\n",
       "\t<tr><th scope=row>6</th><td>5/6/17</td><td> 606535</td></tr>\n",
       "</tbody>\n",
       "</table>\n"
      ],
      "text/latex": [
       "A data.frame: 6 × 2\n",
       "\\begin{tabular}{r|ll}\n",
       "  & Time & GEMS\\_GEMS\\_SPENT\\\\\n",
       "  & <chr> & <int>\\\\\n",
       "\\hline\n",
       "\t1 & 5/1/17 & 1199436\\\\\n",
       "\t2 & 5/2/17 & 1045515\\\\\n",
       "\t3 & 5/3/17 &  586111\\\\\n",
       "\t4 & 5/4/17 &  856601\\\\\n",
       "\t5 & 5/5/17 &  793775\\\\\n",
       "\t6 & 5/6/17 &  606535\\\\\n",
       "\\end{tabular}\n"
      ],
      "text/markdown": [
       "\n",
       "A data.frame: 6 × 2\n",
       "\n",
       "| <!--/--> | Time &lt;chr&gt; | GEMS_GEMS_SPENT &lt;int&gt; |\n",
       "|---|---|---|\n",
       "| 1 | 5/1/17 | 1199436 |\n",
       "| 2 | 5/2/17 | 1045515 |\n",
       "| 3 | 5/3/17 |  586111 |\n",
       "| 4 | 5/4/17 |  856601 |\n",
       "| 5 | 5/5/17 |  793775 |\n",
       "| 6 | 5/6/17 |  606535 |\n",
       "\n"
      ],
      "text/plain": [
       "  Time   GEMS_GEMS_SPENT\n",
       "1 5/1/17 1199436        \n",
       "2 5/2/17 1045515        \n",
       "3 5/3/17  586111        \n",
       "4 5/4/17  856601        \n",
       "5 5/5/17  793775        \n",
       "6 5/6/17  606535        "
      ]
     },
     "metadata": {},
     "output_type": "display_data"
    },
    {
     "data": {
      "image/png": "[encoded data removed]",
      "text/plain": [
       "Plot with title \"PACF - داده اول (Ads)\""
      ]
     },
     "metadata": {
      "image/png": {
       "height": 420,
       "width": 420
      }
     },
     "output_type": "display_data"
    },
    {
     "data": {
      "image/png": "[encoded data removed]",
      "text/plain": [
       "Plot with title \"PACF - داده دوم (GEMS)\""
      ]
     },
     "metadata": {
      "image/png": {
       "height": 420,
       "width": 420
      }
     },
     "output_type": "display_data"
    }
   ],
   "source": [
    "# بارگذاری کتابخانههای مورد نیاز\n",
    "library(forecast)\n",
    "library(ggplot2)\n",
    "\n",
    "# خواندن دادهها از فایلهای CSV\n",
    "data_1 <- read.csv(\"C:/Users/Sina/OneDrive/Desktop/Daneshghah/Term 6/timeseries/ads.csv\")\n",
    "data_2 <- read.csv(\"C:/Users/Sina/OneDrive/Desktop/Daneshghah/Term 6/timeseries/currency.csv\")\n",
    "\n",
    "# تبدیل رشته به تاریخ (فرض کنید فرمت تاریخ: سال-ماه-روز)\n",
    "data_1$Time <- as.Date(data_1$Time)\n",
    "head(data_1)\n",
    "head(data_2)\n",
    "# تحلیل برای داده اول (Ads)\n",
    "par(mfrow = c(1, 2)) # تنظیم صفحه برای دو نمودار کنار هم\n",
    "\n",
    "# ACF برای داده اول\n",
    "acf(data_1$Ads, lag.max = 40, main = \"ACF - داده اول (Ads)\", ylab = \"مقدار ACF\")\n",
    "\n",
    "# PACF برای داده اول\n",
    "pacf(data_1$Ads, lag.max = 40, main = \"PACF - داده اول (Ads)\", ylab = \"مقدار PACF\")\n",
    "\n",
    "# تحلیل برای داده دوم (GEMS_GEMS_SPENT)\n",
    "par(mfrow = c(1, 2)) # تنظیم مجدد صفحه برای دو نمودار\n",
    "\n",
    "# ACF برای داده دوم\n",
    "acf(data_2$GEMS_GEMS_SPENT, lag.max = 40, main = \"ACF - داده دوم (GEMS)\", ylab = \"مقدار ACF\")\n",
    "\n",
    "# PACF برای داده دوم\n",
    "pacf(data_2$GEMS_GEMS_SPENT, lag.max = 40, main = \"PACF - داده دوم (GEMS)\", ylab = \"مقدار PACF\")\n",
    "\n",
    "par(mfrow = c(1, 1))\n",
    "\n"
   ]
  },
  {
   "cell_type": "code",
   "execution_count": 33,
   "id": "0cede0b5",
   "metadata": {
    "vscode": {
     "languageId": "r"
    }
   },
   "outputs": [
    {
     "name": "stderr",
     "output_type": "stream",
     "text": [
      "Warning message in adf.test(ads_ts):\n",
      "\"p-value smaller than printed p-value\"\n"
     ]
    },
    {
     "data": {
      "text/plain": [
       "\n",
       "\tAugmented Dickey-Fuller Test\n",
       "\n",
       "data:  ads_ts\n",
       "Dickey-Fuller = -5.2566, Lag order = 5, p-value = 0.01\n",
       "alternative hypothesis: stationary\n"
      ]
     },
     "metadata": {},
     "output_type": "display_data"
    },
    {
     "data": {
      "text/plain": [
       "Series: ads_ts \n",
       "ARIMA(2,0,0) with non-zero mean \n",
       "\n",
       "Coefficients:\n",
       "         ar1      ar2        mean\n",
       "      1.4784  -0.6321  121166.049\n",
       "s.e.  0.0527   0.0530    3980.798\n",
       "\n",
       "sigma^2 = 82799072:  log likelihood = -2275.4\n",
       "AIC=4558.79   AICc=4558.98   BIC=4572.3\n",
       "\n",
       "Training set error measures:\n",
       "                   ME     RMSE      MAE        MPE     MAPE      MASE\n",
       "Training set 63.25639 9035.988 7088.839 -0.5413692 5.999221 0.7827702\n",
       "                    ACF1\n",
       "Training set 0.006239389"
      ]
     },
     "metadata": {},
     "output_type": "display_data"
    },
    {
     "data": {
      "text/plain": [
       "\n",
       "Call:\n",
       "arima(x = ads_ts, order = c(1, 1, 1))\n",
       "\n",
       "Coefficients:\n",
       "         ar1     ma1\n",
       "      0.4262  0.1944\n",
       "s.e.  0.0925  0.0914\n",
       "\n",
       "sigma^2 estimated as 96111598:  log likelihood = -2281.23,  aic = 4568.46\n",
       "\n",
       "Training set error measures:\n",
       "                    ME     RMSE      MAE         MPE     MAPE      MASE\n",
       "Training set -32.63944 9780.934 7442.635 0.007029111 6.382451 0.8218373\n",
       "                   ACF1\n",
       "Training set 0.01823861"
      ]
     },
     "metadata": {},
     "output_type": "display_data"
    },
    {
     "data": {
      "text/plain": [
       "\n",
       "Call:\n",
       "arima(x = ads_ts, order = c(2, 3, 0))\n",
       "\n",
       "Coefficients:\n",
       "          ar1      ar2\n",
       "      -0.6167  -0.2659\n",
       "s.e.   0.0662   0.0660\n",
       "\n",
       "sigma^2 estimated as 194321777:  log likelihood = -2335,  aic = 4676\n",
       "\n",
       "Training set error measures:\n",
       "                   ME    RMSE      MAE       MPE     MAPE     MASE        ACF1\n",
       "Training set -56.9113 13842.8 9999.509 0.5485653 8.583874 1.104175 -0.08260077"
      ]
     },
     "metadata": {},
     "output_type": "display_data"
    },
    {
     "data": {
      "image/png": "[encoded data removed]",
      "text/plain": [
       "Plot with title \"PACF - Partial Autocorrelation\""
      ]
     },
     "metadata": {
      "image/png": {
       "height": 420,
       "width": 420
      }
     },
     "output_type": "display_data"
    }
   ],
   "source": [
    "library(forecast)\n",
    "library(tseries)\n",
    "ads_ts <- ts(data_1$Ads)\n",
    "# آزمون Dickey-Fuller برای ایستایی\n",
    "adf.test(ads_ts)\n",
    "par(mfrow = c(1, 2))\n",
    "acf(ads_ts, main=\"ACF - Autocorrelation\")\n",
    "pacf(ads_ts, main=\"PACF - Partial Autocorrelation\")\n",
    "# خودکار بهترین مدل ARIMA با تفاوت‌گیری\n",
    "model <- auto.arima(ads_ts)\n",
    "summary(model)\n",
    "model <- arima(ads_ts, order = c(1,1,1))\n",
    "summary(model)\n",
    "model <- arima(ads_ts, order = c(2,3,0))\n",
    "summary(model)\n"
   ]
  },
  {
   "cell_type": "code",
   "execution_count": 44,
   "id": "61d73d3d",
   "metadata": {
    "vscode": {
     "languageId": "r"
    }
   },
   "outputs": [
    {
     "name": "stderr",
     "output_type": "stream",
     "text": [
      "Warning message in adf.test(gem_ts):\n",
      "\"p-value smaller than printed p-value\"\n"
     ]
    },
    {
     "data": {
      "text/plain": [
       "\n",
       "\tAugmented Dickey-Fuller Test\n",
       "\n",
       "data:  gem_ts\n",
       "Dickey-Fuller = -5.1653, Lag order = 6, p-value = 0.01\n",
       "alternative hypothesis: stationary\n"
      ]
     },
     "metadata": {},
     "output_type": "display_data"
    },
    {
     "data": {
      "text/plain": [
       "Series: gem_ts \n",
       "ARIMA(5,1,1) \n",
       "\n",
       "Coefficients:\n",
       "          ar1      ar2      ar3      ar4      ar5     ma1\n",
       "      -0.8021  -0.6090  -0.2165  -0.3371  -0.4869  0.6724\n",
       "s.e.   0.1195   0.0676   0.0937   0.0740   0.0617  0.1271\n",
       "\n",
       "sigma^2 = 6.04e+10:  log likelihood = -4134.02\n",
       "AIC=8282.03   AICc=8282.42   BIC=8307.94\n",
       "\n",
       "Training set error measures:\n",
       "                   ME     RMSE      MAE       MPE     MAPE      MASE       ACF1\n",
       "Training set 6697.566 242877.3 152487.6 -1.496629 10.89066 0.4508634 0.04153621"
      ]
     },
     "metadata": {},
     "output_type": "display_data"
    },
    {
     "data": {
      "text/plain": [
       "\n",
       "Call:\n",
       "arima(x = gem_ts, order = c(1, 1, 1))\n",
       "\n",
       "Coefficients:\n",
       "         ar1      ma1\n",
       "      0.2175  -0.8712\n",
       "s.e.  0.0959   0.0667\n",
       "\n",
       "sigma^2 estimated as 1.288e+11:  log likelihood = -4249.22,  aic = 8504.45\n",
       "\n",
       "Training set error measures:\n",
       "                   ME     RMSE      MAE       MPE     MAPE      MASE       ACF1\n",
       "Training set 19143.24 358284.8 269786.4 -4.849566 21.41415 0.7976833 0.01449799"
      ]
     },
     "metadata": {},
     "output_type": "display_data"
    },
    {
     "data": {
      "text/plain": [
       "\n",
       "Call:\n",
       "arima(x = gem_ts, order = c(2, 0, 3))\n",
       "\n",
       "Coefficients:\n",
       "         ar1     ar2      ma1      ma2     ma3  intercept\n",
       "      0.8154  0.1207  -0.1948  -0.5851  0.2445    1357937\n",
       "s.e.  0.1199  0.1126   0.1098   0.0665  0.0725     126216\n",
       "\n",
       "sigma^2 estimated as 9.942e+10:  log likelihood = -4224.89,  aic = 8463.78\n",
       "\n",
       "Training set error measures:\n",
       "                   ME     RMSE      MAE       MPE     MAPE      MASE\n",
       "Training set 4005.463 315308.3 231021.2 -5.037885 18.20682 0.6830653\n",
       "                     ACF1\n",
       "Training set -0.009418506"
      ]
     },
     "metadata": {},
     "output_type": "display_data"
    },
    {
     "data": {
      "image/png": "[encoded data removed]",
      "text/plain": [
       "Plot with title \"PACF - Partial Autocorrelation\""
      ]
     },
     "metadata": {
      "image/png": {
       "height": 420,
       "width": 420
      }
     },
     "output_type": "display_data"
    }
   ],
   "source": [
    "library(forecast)\n",
    "library(tseries)\n",
    "gem_ts <- ts(data_2$GEMS_GEMS_SPENT)\n",
    "# آزمون Dickey-Fuller برای ایستایی\n",
    "adf.test(gem_ts)\n",
    "par(mfrow = c(1, 2))\n",
    "acf(gem_ts, main=\"ACF - Autocorrelation\")\n",
    "pacf(gem_ts, main=\"PACF - Partial Autocorrelation\")\n",
    "# خودکار بهترین مدل ARIMA با تفاوت‌گیری\n",
    "model_1 <- auto.arima(gem_ts)\n",
    "summary(model_1)\n",
    "model_2 <- arima(gem_ts, order = c(1,1,1))\n",
    "summary(model_2)\n",
    "model_3 <- arima(gem_ts, order = c(2,0,3))\n",
    "summary(model_3)\n"
   ]
  },
  {
   "cell_type": "markdown",
   "id": "b54fa480",
   "metadata": {},
   "source": [
    "<div dir = 'rtl'>\n",
    "\n",
    "### <div dir='rtl'>**فصل سوم (الگو های سری زمانی فصلی )**</div>\n",
    "\n",
    "- #### <div dir = 'rtl'>**SARIMA**</div>\n",
    "\n",
    "فرم کلی مدل **SARIMA** \\((p,d,q)\\,(P,D,Q)[s]\\):\n",
    "<div dir = 'ltr'>\n",
    "\n",
    "$$\n",
    "\\bigl(1 - \\sum_{i=1}^p \\phi_i B^i\\bigr)\\,\n",
    "\\bigl(1 - \\sum_{j=1}^P \\Phi_j B^{j s}\\bigr)\\,\n",
    "(1 - B)^d\\,\n",
    "(1 - B^s)^D\\;x_t\n",
    "\\;=\\;\n",
    "\\bigl(1 + \\sum_{k=1}^q \\theta_k B^k\\bigr)\\,\n",
    "\\bigl(1 + \\sum_{\\ell=1}^Q \\Theta_\\ell B^{\\ell s}\\bigr)\\,\n",
    "\\varepsilon_t\n",
    "$$\n",
    "\n",
    "\n",
    "- $(B)$: عملگر تاخیر ($(B x_t = x_{t-1})$).  \n",
    "- $(p,d,q)$: پارامترهای غیرفصلی (ARIMA).  \n",
    "- $(P,D,Q)$: پارامترهای فصلی با دوره $(s)$.  \n",
    "- $(\\{\\phi_i\\})$: ضرایب AR غیرفصلی.  \n",
    "- $(\\{\\Phi_j\\})$: ضرایب AR فصلی.  \n",
    "- $(\\{\\theta_k\\})$: ضرایب MA غیرفصلی.  \n",
    "- $(\\{\\Theta_\\ell\\})$: ضرایب MA فصلی.  \n",
    "- $(\\varepsilon_t)$: نویز سفید.\n",
    "\n",
    "</div>\n",
    "\n",
    "\n",
    "</div>"
   ]
  },
  {
   "cell_type": "code",
   "execution_count": 38,
   "id": "2fa9b089",
   "metadata": {
    "vscode": {
     "languageId": "r"
    }
   },
   "outputs": [
    {
     "name": "stdout",
     "output_type": "stream",
     "text": [
      "     Jan Feb Mar Apr May Jun Jul Aug Sep Oct Nov Dec\n",
      "1949 112 118 132 129 121 135 148 148 136 119 104 118\n",
      "1950 115 126 141 135 125 149 170 170 158 133 114 140\n",
      "1951 145 150 178 163 172 178 199 199 184 162 146 166\n",
      "1952 171 180 193 181 183 218 230 242 209 191 172 194\n",
      "1953 196 196 236 235 229 243 264 272 237 211 180 201\n",
      "1954 204 188 235 227 234 264 302 293 259 229 203 229\n",
      "1955 242 233 267 269 270 315 364 347 312 274 237 278\n",
      "1956 284 277 317 313 318 374 413 405 355 306 271 306\n",
      "1957 315 301 356 348 355 422 465 467 404 347 305 336\n",
      "1958 340 318 362 348 363 435 491 505 404 359 310 337\n",
      "1959 360 342 406 396 420 472 548 559 463 407 362 405\n",
      "1960 417 391 419 461 472 535 622 606 508 461 390 432\n"
     ]
    },
    {
     "data": {
      "text/html": [
       "'ts'"
      ],
      "text/latex": [
       "'ts'"
      ],
      "text/markdown": [
       "'ts'"
      ],
      "text/plain": [
       "[1] \"ts\""
      ]
     },
     "metadata": {},
     "output_type": "display_data"
    },
    {
     "data": {
      "text/html": [
       "12"
      ],
      "text/latex": [
       "12"
      ],
      "text/markdown": [
       "12"
      ],
      "text/plain": [
       "[1] 12"
      ]
     },
     "metadata": {},
     "output_type": "display_data"
    },
    {
     "data": {
      "text/html": [
       "<style>\n",
       ".list-inline {list-style: none; margin:0; padding: 0}\n",
       ".list-inline>li {display: inline-block}\n",
       ".list-inline>li:not(:last-child)::after {content: \"\\00b7\"; padding: 0 .5ex}\n",
       "</style>\n",
       "<ol class=list-inline><li>1949</li><li>1</li></ol>\n"
      ],
      "text/latex": [
       "\\begin{enumerate*}\n",
       "\\item 1949\n",
       "\\item 1\n",
       "\\end{enumerate*}\n"
      ],
      "text/markdown": [
       "1. 1949\n",
       "2. 1\n",
       "\n",
       "\n"
      ],
      "text/plain": [
       "[1] 1949    1"
      ]
     },
     "metadata": {},
     "output_type": "display_data"
    },
    {
     "data": {
      "text/html": [
       "<style>\n",
       ".list-inline {list-style: none; margin:0; padding: 0}\n",
       ".list-inline>li {display: inline-block}\n",
       ".list-inline>li:not(:last-child)::after {content: \"\\00b7\"; padding: 0 .5ex}\n",
       "</style>\n",
       "<ol class=list-inline><li>1960</li><li>12</li></ol>\n"
      ],
      "text/latex": [
       "\\begin{enumerate*}\n",
       "\\item 1960\n",
       "\\item 12\n",
       "\\end{enumerate*}\n"
      ],
      "text/markdown": [
       "1. 1960\n",
       "2. 12\n",
       "\n",
       "\n"
      ],
      "text/plain": [
       "[1] 1960   12"
      ]
     },
     "metadata": {},
     "output_type": "display_data"
    },
    {
     "data": {
      "image/png": "[encoded data removed]",
      "text/plain": [
       "plot without title"
      ]
     },
     "metadata": {
      "image/png": {
       "height": 420,
       "width": 420
      }
     },
     "output_type": "display_data"
    }
   ],
   "source": [
    "# بسته forecast را بارگذاری کنید\n",
    "library(forecast)\n",
    "\n",
    "# دیتاست AirPassengers در base R موجود است\n",
    "data(\"AirPassengers\")\n",
    "AP <- AirPassengers\n",
    "\n",
    "# نگاهی به ساختار دیتاست\n",
    "print(AP)\n",
    "# کلاس و فرکانس\n",
    "class(AP); frequency(AP); start(AP); end(AP)\n",
    "\n",
    "# رسم سری اولیه\n",
    "autoplot(AP) + ggtitle(\"سری AirPassengers (1949–1960)\") +\n",
    "  xlab(\"سال\") + ylab(\"تعداد مسافرین (هزار نفر)\")\n"
   ]
  },
  {
   "cell_type": "code",
   "execution_count": 39,
   "id": "577529d2",
   "metadata": {
    "vscode": {
     "languageId": "r"
    }
   },
   "outputs": [
    {
     "name": "stdout",
     "output_type": "stream",
     "text": [
      "ndiffs = 1 \n",
      "nsdiffs = 1 \n"
     ]
    }
   ],
   "source": [
    "# تعداد تفاضل معمولی\n",
    "d <- ndiffs(AP)       \n",
    "# تعداد تفاضل فصلی\n",
    "D <- nsdiffs(AP)      \n",
    "\n",
    "cat(\"ndiffs =\", d, \"\\nnsdiffs =\", D, \"\\n\")\n"
   ]
  },
  {
   "cell_type": "code",
   "execution_count": null,
   "id": "cc2306b2",
   "metadata": {
    "vscode": {
     "languageId": "r"
    }
   },
   "outputs": [
    {
     "data": {
      "image/png": "[encoded data removed]",
      "text/plain": [
       "Plot with title \"PACF پس از تفاضل\""
      ]
     },
     "metadata": {
      "image/png": {
       "height": 420,
       "width": 420
      }
     },
     "output_type": "display_data"
    }
   ],
   "source": [
    "AP_diff <- diff(diff(AP, lag = 12), differences = 1)\n",
    "\n",
    "par(mfrow = c(1,2))\n",
    "acf(AP_diff, main=\"ACF پس از تفاضل\")\n",
    "pacf(AP_diff, main=\"PACF پس از تفاضل\")\n",
    "par(mfrow = c(1,1))\n"
   ]
  },
  {
   "cell_type": "code",
   "execution_count": 41,
   "id": "3d019fef",
   "metadata": {
    "vscode": {
     "languageId": "r"
    }
   },
   "outputs": [
    {
     "data": {
      "text/plain": [
       "Series: AP \n",
       "ARIMA(0,1,1)(1,1,0)[12] \n",
       "\n",
       "Coefficients:\n",
       "          ma1     sar1\n",
       "      -0.3096  -0.1459\n",
       "s.e.   0.0885   0.0974\n",
       "\n",
       "sigma^2 = 136.8:  log likelihood = -507.21\n",
       "AIC=1020.43   AICc=1020.61   BIC=1029.05\n",
       "\n",
       "Training set error measures:\n",
       "                    ME     RMSE      MAE        MPE     MAPE      MASE\n",
       "Training set 0.3454169 11.07003 8.108353 0.04835617 2.871605 0.2531463\n",
       "                     ACF1\n",
       "Training set -0.003449102"
      ]
     },
     "metadata": {},
     "output_type": "display_data"
    }
   ],
   "source": [
    "fit_AP <- Arima(AP,\n",
    "                order    = c(0,1,1),\n",
    "                seasonal = c(1,1,0),\n",
    "                include.constant = FALSE)\n",
    "summary(fit_AP)\n"
   ]
  },
  {
   "cell_type": "code",
   "execution_count": 42,
   "id": "d5d2d6b9",
   "metadata": {
    "vscode": {
     "languageId": "r"
    }
   },
   "outputs": [
    {
     "name": "stdout",
     "output_type": "stream",
     "text": [
      "\n",
      "\tLjung-Box test\n",
      "\n",
      "data:  Residuals from ARIMA(0,1,1)(1,1,0)[12]\n",
      "Q* = 45.406, df = 22, p-value = 0.002356\n",
      "\n",
      "Model df: 2.   Total lags used: 24\n",
      "\n"
     ]
    },
    {
     "data": {
      "image/png": "[encoded data removed]",
      "text/plain": [
       "plot without title"
      ]
     },
     "metadata": {
      "image/png": {
       "height": 420,
       "width": 420
      }
     },
     "output_type": "display_data"
    }
   ],
   "source": [
    "# باقیمانده‌ها را چک کن\n",
    "checkresiduals(fit_AP)\n"
   ]
  },
  {
   "cell_type": "code",
   "execution_count": 43,
   "id": "7f774bdc",
   "metadata": {
    "vscode": {
     "languageId": "r"
    }
   },
   "outputs": [
    {
     "data": {
      "text/plain": [
       "Series: AP \n",
       "ARIMA(2,1,1)(0,1,0)[12] \n",
       "\n",
       "Coefficients:\n",
       "         ar1     ar2      ma1\n",
       "      0.5960  0.2143  -0.9819\n",
       "s.e.  0.0888  0.0880   0.0292\n",
       "\n",
       "sigma^2 = 132.3:  log likelihood = -504.92\n",
       "AIC=1017.85   AICc=1018.17   BIC=1029.35\n",
       "\n",
       "Training set error measures:\n",
       "                 ME     RMSE     MAE      MPE     MAPE     MASE        ACF1\n",
       "Training set 1.3423 10.84619 7.86754 0.420698 2.800458 0.245628 -0.00124847"
      ]
     },
     "metadata": {},
     "output_type": "display_data"
    }
   ],
   "source": [
    "auto_fit <- auto.arima(AP, seasonal = TRUE, stepwise = FALSE, approximation = FALSE)\n",
    "summary(auto_fit)\n"
   ]
  },
  {
   "cell_type": "code",
   "execution_count": 46,
   "id": "dffa61a6",
   "metadata": {
    "vscode": {
     "languageId": "r"
    }
   },
   "outputs": [
    {
     "name": "stderr",
     "output_type": "stream",
     "text": [
      "\n",
      "Attaching package: 'zoo'\n",
      "\n",
      "\n",
      "The following objects are masked from 'package:base':\n",
      "\n",
      "    as.Date, as.Date.numeric\n",
      "\n",
      "\n",
      "\n",
      "Attaching package: 'dplyr'\n",
      "\n",
      "\n",
      "The following objects are masked from 'package:stats':\n",
      "\n",
      "    filter, lag\n",
      "\n",
      "\n",
      "The following objects are masked from 'package:base':\n",
      "\n",
      "    intersect, setdiff, setequal, union\n",
      "\n",
      "\n"
     ]
    }
   ],
   "source": [
    "library(zoo)       # برای rollmean\n",
    "library(forecast)  # برای ses\n",
    "library(ggplot2)   # برای autoplot\n",
    "library(dplyr)\n",
    "# داده\n",
    "data(\"AirPassengers\")\n",
    "ts_data <- AirPassengers\n"
   ]
  },
  {
   "cell_type": "markdown",
   "id": "c652cd40",
   "metadata": {},
   "source": [
    "<div dir = 'rtl'>\n",
    "\n",
    "\n",
    "## مقایسه دو روش هموارسازی سری زمانی\n",
    "\n",
    "### ۱. میانگین متحرک ساده (Simple Moving Average – SMA)\n",
    "\n",
    "- **تعریف**  \n",
    "  SMA در هر نقطه یک مقدار متوسط از «​آخرین k» مشاهدات را محاسبه می‌کند:  \n",
    "  <div dir='ltr'>\n",
    "  \n",
    "  $$\n",
    "    \\text{SMA}_t \\;=\\; \\frac{1}{k} \\sum_{i=0}^{k-1} x_{t-i}\n",
    "  $$\n",
    "\n",
    "  </div>\n",
    "\n",
    "  که $(k)$ طول پنجره است.\n",
    "\n",
    "- **ویژگی‌ها**  \n",
    "  - **وزن برابر** به همه ی مشاهدات پنجره می‌دهد.  \n",
    "  - خروجی بسیار صاف و حذف نوسانات کوتاه‌مدت.  \n",
    "  - **تاخیر** (lag) دارد: نسبت به تغییرات ناگهانی عقب می‌ماند.\n",
    "\n",
    "- **مزایا**  \n",
    "  - ساده و قابل فهم.  \n",
    "  - حذف نویز با کنترل پارامتر $(k)$.\n",
    "\n",
    "- **معایب**  \n",
    "  - تاخیر در شناسایی روند جدید.  \n",
    "  - از داده‌های قدیمی و جدید به یک اندازه استفاده می‌کند (ممکن است برای سری‌های با رفتار پویا مناسب نباشد).\n",
    "\n",
    "---\n",
    "\n",
    "### ۲. هموارسازی نمایی ساده (Simple Exponential Smoothing – SES)\n",
    "\n",
    "- **تعریف**  \n",
    "  SES پیش‌بینی را به‌صورت بازگشتی با وزن نمایی روی مشاهدات گذشته محاسبه می‌کند:  \n",
    "  <div dir = 'ltr'>\n",
    "  \n",
    "  $$\n",
    "    \\begin{cases}\n",
    "      S_1 = x_1,\\\\[6pt]\n",
    "      S_t = \\alpha\\,x_{t} + (1-\\alpha)\\,S_{t-1},\\quad 0<\\alpha\\le1\n",
    "    \\end{cases}\n",
    "  $$\n",
    "  </div>\n",
    "\n",
    "  که $(S_t)$ مقدار هموارشده و $(\\alpha)$ نرخ هموارسازی است.\n",
    "\n",
    "- **ویژگی‌ها**  \n",
    "  - **وزن نمایی**: مشاهدات جدیدتر وزن بیشتری می‌‌گیرند ($(\\alpha)$ نزدیک به 1 → حساس‌تر).  \n",
    "  - **بدون تاخیر محسوس**: سریع‌تر از SMA به تغییرات واکنش نشان می‌دهد.  \n",
    "  - قابلیت پیش‌بینی چندگام آینده را دارد.\n",
    "\n",
    "- **مزایا**  \n",
    "  - واکنش سریع به تغییرات اخیر.  \n",
    "  - تنها یک پارامتر ($(\\alpha)$) برای تنظیم.  \n",
    "  - مناسب سری‌های بدون روند و بدون فصلیته قوی.\n",
    "\n",
    "- **معایب**  \n",
    "  - اگر سری روند یا فصلیته قوی داشته باشد، نیاز به مدل‌های پیشرفته‌تری همچون Holt یا Holt–Winters دارد.  \n",
    "  - انتخاب $(\\alpha)$ می‌تواند چالش‌برانگیز باشد (اغلب با کمینه‌سازی SSE به‌دست می‌آید).\n",
    "\n",
    "---\n",
    "\n",
    "### انتخاب روش\n",
    "\n",
    "- **SMA**: وقتی می‌خواهید نوسانات کوچک را حذف کنید و تاخیر مسئله‌ای ندارد.  \n",
    "- **SES**: وقتی می‌خواهید واکنش سریع داشته باشید و سری بدون روند یا با روند کم است.  \n",
    "- در هر دو روش، اندازه پنجره $(k)$ یا نرخ هموارسازی $(\\alpha)$ باید براساس داده و معیارهای خطا (مانند RMSE) تنظیم شوند.\n",
    "\n",
    "</div>\n"
   ]
  },
  {
   "cell_type": "code",
   "execution_count": 47,
   "id": "f1296179",
   "metadata": {
    "vscode": {
     "languageId": "r"
    }
   },
   "outputs": [],
   "source": [
    "window <- 12\n",
    "sma <- rollmean(ts_data, k = window, align = \"right\", fill = NA)\n"
   ]
  },
  {
   "cell_type": "code",
   "execution_count": 50,
   "id": "4b947363",
   "metadata": {
    "vscode": {
     "languageId": "r"
    }
   },
   "outputs": [
    {
     "data": {
      "image/png": "[encoded data removed]",
      "text/plain": [
       "plot without title"
      ]
     },
     "metadata": {
      "image/png": {
       "height": 420,
       "width": 420
      }
     },
     "output_type": "display_data"
    }
   ],
   "source": [
    "library(forecast)\n",
    "\n",
    "# ۱. برازش مدل ETS(A,N,N) صریح\n",
    "ets_fit <- ets(ts_data, model = \"ANN\")\n",
    "\n",
    "# ۲. پیش‌بینی\n",
    "fc_ets <- forecast(ets_fit, h = 24)\n",
    "\n",
    "# ۳. رسم\n",
    "autoplot(fc_ets) +\n",
    "  ggtitle(\"پیش‌بینی با ETS(A,N,N) — معادل SES\") +\n",
    "  xlab(\"زمان\") + ylab(\"مقدار\")\n"
   ]
  },
  {
   "cell_type": "code",
   "execution_count": 52,
   "id": "fdf46a27",
   "metadata": {
    "vscode": {
     "languageId": "r"
    }
   },
   "outputs": [
    {
     "name": "stderr",
     "output_type": "stream",
     "text": [
      "Warning message:\n",
      "\"\u001b[1m\u001b[22mRemoved 11 rows containing missing values or values outside the scale range\n",
      "(`geom_line()`).\"\n"
     ]
    },
    {
     "data": {
      "image/png": "[encoded data removed]",
      "text/plain": [
       "plot without title"
      ]
     },
     "metadata": {
      "image/png": {
       "height": 420,
       "width": 420
      }
     },
     "output_type": "display_data"
    }
   ],
   "source": [
    "library(forecast)\n",
    "library(zoo)\n",
    "library(ggplot2)\n",
    "library(dplyr)\n",
    "\n",
    "# مثال با دیتاست AirPassengers\n",
    "ts_data  <- AirPassengers\n",
    "\n",
    "# SMA یک‌ساله\n",
    "sma      <- rollmean(ts_data, 12, align = \"right\", fill = NA)\n",
    "\n",
    "# SES—هموارسازی نمایی ساده\n",
    "ses_fit  <- ses(ts_data, alpha = NULL, initial = \"simple\")\n",
    "ses_vals <- ses_fit$fitted\n",
    "\n",
    "# ساخت tibble\n",
    "df <- tibble(\n",
    "  Time     = as.Date(as.yearmon(time(ts_data))),\n",
    "  Original = as.numeric(ts_data),\n",
    "  SMA      = as.numeric(sma),\n",
    "  SES      = as.numeric(ses_vals)\n",
    ")\n",
    "\n",
    "# رسم\n",
    "ggplot(df, aes(x = Time)) +\n",
    "  geom_line(aes(y = Original), color = \"black\", size = 0.6) +\n",
    "  geom_line(aes(y = SMA),      color = \"blue\",  size = 0.8) +\n",
    "  geom_line(aes(y = SES),      color = \"red\",   size = 0.8) +\n",
    "  labs(title = \"مقایسه هموارسازی: SMA (آبی) vs SES (قرمز)\",\n",
    "       x = \"سال\", y = \"تعداد مسافرین\") +\n",
    "  theme_minimal()\n"
   ]
  },
  {
   "cell_type": "code",
   "execution_count": null,
   "id": "9ae4127c",
   "metadata": {
    "vscode": {
     "languageId": "r"
    }
   },
   "outputs": [],
   "source": []
  }
 ],
 "metadata": {
  "kernelspec": {
   "display_name": "R",
   "language": "R",
   "name": "ir"
  },
  "language_info": {
   "codemirror_mode": "r",
   "file_extension": ".r",
   "mimetype": "text/x-r-source",
   "name": "R",
   "pygments_lexer": "r",
   "version": "4.4.2"
  }
 },
 "nbformat": 4,
 "nbformat_minor": 5
}
